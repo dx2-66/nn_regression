{
 "cells": [
  {
   "cell_type": "code",
   "execution_count": 1,
   "id": "11348b81",
   "metadata": {},
   "outputs": [],
   "source": [
    "import pandas as pd\n",
    "\n",
    "import torch\n",
    "import torch.nn as nn\n",
    "from torch.optim import Adam\n",
    "\n",
    "from sklearn.model_selection import train_test_split\n",
    "from sklearn.preprocessing import QuantileTransformer\n",
    "from sklearn.metrics import mean_squared_error, r2_score\n",
    "\n",
    "from skorch import NeuralNetRegressor"
   ]
  },
  {
   "cell_type": "code",
   "execution_count": 2,
   "id": "a5b669ff",
   "metadata": {},
   "outputs": [],
   "source": [
    "random_state = 177013\n",
    "torch.manual_seed (random_state)\n",
    "batch_size = 1000\n",
    "num_workers = 4"
   ]
  },
  {
   "cell_type": "code",
   "execution_count": 3,
   "id": "135279be",
   "metadata": {},
   "outputs": [
    {
     "data": {
      "text/html": [
       "<div>\n",
       "<style scoped>\n",
       "    .dataframe tbody tr th:only-of-type {\n",
       "        vertical-align: middle;\n",
       "    }\n",
       "\n",
       "    .dataframe tbody tr th {\n",
       "        vertical-align: top;\n",
       "    }\n",
       "\n",
       "    .dataframe thead th {\n",
       "        text-align: right;\n",
       "    }\n",
       "</style>\n",
       "<table border=\"1\" class=\"dataframe\">\n",
       "  <thead>\n",
       "    <tr style=\"text-align: right;\">\n",
       "      <th></th>\n",
       "      <th>Price</th>\n",
       "      <th>VehicleType</th>\n",
       "      <th>RegistrationYear</th>\n",
       "      <th>Power</th>\n",
       "      <th>Model</th>\n",
       "      <th>Kilometer</th>\n",
       "      <th>RegistrationMonth</th>\n",
       "      <th>FuelType</th>\n",
       "      <th>Brand</th>\n",
       "      <th>PostalCode</th>\n",
       "      <th>Gearbox_manual</th>\n",
       "      <th>NotRepaired_yes</th>\n",
       "    </tr>\n",
       "  </thead>\n",
       "  <tbody>\n",
       "    <tr>\n",
       "      <th>3</th>\n",
       "      <td>1500</td>\n",
       "      <td>small</td>\n",
       "      <td>2001</td>\n",
       "      <td>75</td>\n",
       "      <td>golf</td>\n",
       "      <td>150000</td>\n",
       "      <td>6</td>\n",
       "      <td>petrol</td>\n",
       "      <td>volkswagen</td>\n",
       "      <td>91074</td>\n",
       "      <td>1</td>\n",
       "      <td>0</td>\n",
       "    </tr>\n",
       "    <tr>\n",
       "      <th>4</th>\n",
       "      <td>3600</td>\n",
       "      <td>small</td>\n",
       "      <td>2008</td>\n",
       "      <td>69</td>\n",
       "      <td>fabia</td>\n",
       "      <td>90000</td>\n",
       "      <td>7</td>\n",
       "      <td>petrol</td>\n",
       "      <td>skoda</td>\n",
       "      <td>60437</td>\n",
       "      <td>1</td>\n",
       "      <td>0</td>\n",
       "    </tr>\n",
       "    <tr>\n",
       "      <th>5</th>\n",
       "      <td>650</td>\n",
       "      <td>sedan</td>\n",
       "      <td>1995</td>\n",
       "      <td>102</td>\n",
       "      <td>3er</td>\n",
       "      <td>150000</td>\n",
       "      <td>10</td>\n",
       "      <td>petrol</td>\n",
       "      <td>bmw</td>\n",
       "      <td>33775</td>\n",
       "      <td>1</td>\n",
       "      <td>1</td>\n",
       "    </tr>\n",
       "    <tr>\n",
       "      <th>6</th>\n",
       "      <td>2200</td>\n",
       "      <td>convertible</td>\n",
       "      <td>2004</td>\n",
       "      <td>109</td>\n",
       "      <td>2_reihe</td>\n",
       "      <td>150000</td>\n",
       "      <td>8</td>\n",
       "      <td>petrol</td>\n",
       "      <td>peugeot</td>\n",
       "      <td>67112</td>\n",
       "      <td>1</td>\n",
       "      <td>0</td>\n",
       "    </tr>\n",
       "    <tr>\n",
       "      <th>10</th>\n",
       "      <td>2000</td>\n",
       "      <td>sedan</td>\n",
       "      <td>2004</td>\n",
       "      <td>105</td>\n",
       "      <td>3_reihe</td>\n",
       "      <td>150000</td>\n",
       "      <td>12</td>\n",
       "      <td>petrol</td>\n",
       "      <td>mazda</td>\n",
       "      <td>96224</td>\n",
       "      <td>1</td>\n",
       "      <td>0</td>\n",
       "    </tr>\n",
       "  </tbody>\n",
       "</table>\n",
       "</div>"
      ],
      "text/plain": [
       "    Price  VehicleType  RegistrationYear  Power    Model  Kilometer  \\\n",
       "3    1500        small              2001     75     golf     150000   \n",
       "4    3600        small              2008     69    fabia      90000   \n",
       "5     650        sedan              1995    102      3er     150000   \n",
       "6    2200  convertible              2004    109  2_reihe     150000   \n",
       "10   2000        sedan              2004    105  3_reihe     150000   \n",
       "\n",
       "    RegistrationMonth FuelType       Brand  PostalCode  Gearbox_manual  \\\n",
       "3                   6   petrol  volkswagen       91074               1   \n",
       "4                   7   petrol       skoda       60437               1   \n",
       "5                  10   petrol         bmw       33775               1   \n",
       "6                   8   petrol     peugeot       67112               1   \n",
       "10                 12   petrol       mazda       96224               1   \n",
       "\n",
       "    NotRepaired_yes  \n",
       "3                 0  \n",
       "4                 0  \n",
       "5                 1  \n",
       "6                 0  \n",
       "10                0  "
      ]
     },
     "execution_count": 3,
     "metadata": {},
     "output_type": "execute_result"
    }
   ],
   "source": [
    "df = pd.read_csv('auto_filtered.csv', index_col=0)\n",
    "df.head()"
   ]
  },
  {
   "cell_type": "code",
   "execution_count": 4,
   "id": "7151b12f",
   "metadata": {},
   "outputs": [],
   "source": [
    "df = pd.get_dummies(df, columns = ['VehicleType', 'Model', 'FuelType', 'Brand'], drop_first=True)"
   ]
  },
  {
   "cell_type": "code",
   "execution_count": 5,
   "id": "4b1f88b0",
   "metadata": {},
   "outputs": [],
   "source": [
    "df_features = df.drop(['Price','Gearbox_manual','RegistrationMonth'], axis=1)\n",
    "df_target = df['Price']"
   ]
  },
  {
   "cell_type": "code",
   "execution_count": 6,
   "id": "f015fd2a",
   "metadata": {},
   "outputs": [],
   "source": [
    "features_train, features_test, target_train, target_test = train_test_split(df_features, df_target,\n",
    "                                                                            test_size=0.2, random_state=random_state)"
   ]
  },
  {
   "cell_type": "code",
   "execution_count": 7,
   "id": "e5575acb",
   "metadata": {},
   "outputs": [],
   "source": [
    "quantile_transformer = QuantileTransformer(random_state=random_state)\n",
    "quantile_transformer.fit(features_train)\n",
    "features_train = quantile_transformer.transform(features_train)\n",
    "features_test = quantile_transformer.transform(features_test)"
   ]
  },
  {
   "cell_type": "code",
   "execution_count": 8,
   "id": "ea7914d8",
   "metadata": {},
   "outputs": [],
   "source": [
    "class Linear(nn.Module):\n",
    "    def __init__(self, n_features):\n",
    "        super().__init__()\n",
    "        self.fc1 = torch.nn.Linear(n_features, 64)\n",
    "        self.fc2 = nn.Linear(64, 32)\n",
    "        self.fc3 = nn.Linear(32, 1)\n",
    "        self.relu1 = nn.LeakyReLU()\n",
    "        self.relu2 = nn.LeakyReLU()\n",
    "        self.norm1 = nn.BatchNorm1d(64)\n",
    "        self.norm2 = nn.BatchNorm1d(32)\n",
    "\n",
    "    def forward(self, batch):\n",
    "        batch = self.fc1(batch)\n",
    "        batch = self.relu1(batch)\n",
    "        batch = self.norm1(batch)\n",
    "        batch = self.fc2(batch)\n",
    "        batch = self.relu2(batch)\n",
    "        batch = self.norm2(batch)\n",
    "        return self.fc3(batch)"
   ]
  },
  {
   "cell_type": "code",
   "execution_count": 9,
   "id": "730864bd",
   "metadata": {},
   "outputs": [
    {
     "name": "stdout",
     "output_type": "stream",
     "text": [
      "The model will be running on cpu device\n"
     ]
    }
   ],
   "source": [
    "device = torch.device(\"cuda:0\" if torch.cuda.is_available() else \"cpu\")\n",
    "print(\"The model will be running on\", device, \"device\")"
   ]
  },
  {
   "cell_type": "code",
   "execution_count": 10,
   "id": "29ae4d4a",
   "metadata": {},
   "outputs": [],
   "source": [
    "model = Linear(df_features.shape[1])"
   ]
  },
  {
   "cell_type": "code",
   "execution_count": 11,
   "id": "eb2ee061",
   "metadata": {},
   "outputs": [],
   "source": [
    "net = NeuralNetRegressor(\n",
    "    model,\n",
    "    max_epochs=25,\n",
    "    batch_size=batch_size,\n",
    "    lr=0.005,\n",
    "    criterion = nn.MSELoss,\n",
    "    optimizer = Adam,\n",
    "    device = device,\n",
    ")"
   ]
  },
  {
   "cell_type": "code",
   "execution_count": 12,
   "id": "0f8ed2d1",
   "metadata": {
    "scrolled": false
   },
   "outputs": [
    {
     "name": "stdout",
     "output_type": "stream",
     "text": [
      "  epoch     train_loss     valid_loss     dur\n",
      "-------  -------------  -------------  ------\n",
      "      1  \u001b[36m17351227.4510\u001b[0m  \u001b[32m17189124.7717\u001b[0m  1.4562\n",
      "      2  \u001b[36m16451081.7891\u001b[0m  \u001b[32m15871585.9428\u001b[0m  1.3413\n",
      "      3  \u001b[36m14755546.5602\u001b[0m  \u001b[32m13862332.4786\u001b[0m  1.3430\n",
      "      4  \u001b[36m12509712.0399\u001b[0m  \u001b[32m11362660.1687\u001b[0m  1.3157\n",
      "      5  \u001b[36m10038213.4093\u001b[0m  \u001b[32m8779011.4692\u001b[0m  1.3073\n",
      "      6  \u001b[36m7656945.2794\u001b[0m  \u001b[32m6532941.8336\u001b[0m  1.3716\n",
      "      7  \u001b[36m5608395.3989\u001b[0m  \u001b[32m4608926.0222\u001b[0m  1.4055\n",
      "      8  \u001b[36m4020800.7274\u001b[0m  \u001b[32m3259061.3750\u001b[0m  1.3737\n",
      "      9  \u001b[36m2897382.7267\u001b[0m  \u001b[32m2360714.6933\u001b[0m  1.3610\n",
      "     10  \u001b[36m2158731.5422\u001b[0m  \u001b[32m1858243.2549\u001b[0m  1.3605\n",
      "     11  \u001b[36m1693438.9412\u001b[0m  \u001b[32m1558393.7344\u001b[0m  1.3513\n",
      "     12  \u001b[36m1400690.8189\u001b[0m  \u001b[32m1337812.7334\u001b[0m  1.3283\n",
      "     13  \u001b[36m1227819.0453\u001b[0m  \u001b[32m1222948.4728\u001b[0m  1.6220\n",
      "     14  \u001b[36m1137469.0805\u001b[0m  \u001b[32m1166555.4785\u001b[0m  1.6119\n",
      "     15  \u001b[36m1093434.7716\u001b[0m  \u001b[32m1140800.5412\u001b[0m  1.6147\n",
      "     16  \u001b[36m1072815.1502\u001b[0m  \u001b[32m1131025.2237\u001b[0m  1.6465\n",
      "     17  \u001b[36m1063582.7557\u001b[0m  \u001b[32m1128272.8487\u001b[0m  1.6166\n",
      "     18  \u001b[36m1057614.6655\u001b[0m  \u001b[32m1126299.3918\u001b[0m  1.6139\n",
      "     19  \u001b[36m1053580.4701\u001b[0m  \u001b[32m1124610.2206\u001b[0m  1.4415\n",
      "     20  \u001b[36m1050718.1290\u001b[0m  \u001b[32m1124579.7891\u001b[0m  1.3490\n",
      "     21  \u001b[36m1047684.2963\u001b[0m  \u001b[32m1123674.8543\u001b[0m  1.3141\n",
      "     22  \u001b[36m1045082.7501\u001b[0m  \u001b[32m1123451.3119\u001b[0m  1.3071\n",
      "     23  \u001b[36m1042574.5666\u001b[0m  \u001b[32m1122695.2432\u001b[0m  1.3585\n",
      "     24  \u001b[36m1040134.9437\u001b[0m  1123054.7604  1.6665\n",
      "     25  \u001b[36m1037489.5428\u001b[0m  \u001b[32m1122562.1899\u001b[0m  1.6300\n"
     ]
    },
    {
     "data": {
      "text/plain": [
       "<class 'skorch.regressor.NeuralNetRegressor'>[initialized](\n",
       "  module_=Linear(\n",
       "    (fc1): Linear(in_features=301, out_features=64, bias=True)\n",
       "    (fc2): Linear(in_features=64, out_features=32, bias=True)\n",
       "    (fc3): Linear(in_features=32, out_features=1, bias=True)\n",
       "    (relu1): LeakyReLU(negative_slope=0.01)\n",
       "    (relu2): LeakyReLU(negative_slope=0.01)\n",
       "    (norm1): BatchNorm1d(64, eps=1e-05, momentum=0.1, affine=True, track_running_stats=True)\n",
       "    (norm2): BatchNorm1d(32, eps=1e-05, momentum=0.1, affine=True, track_running_stats=True)\n",
       "  ),\n",
       ")"
      ]
     },
     "execution_count": 12,
     "metadata": {},
     "output_type": "execute_result"
    }
   ],
   "source": [
    "net.fit(features_train.astype('float32'), target_train.values.astype('float32').reshape(-1, 1))"
   ]
  },
  {
   "cell_type": "code",
   "execution_count": 13,
   "id": "360f096b",
   "metadata": {},
   "outputs": [
    {
     "name": "stdout",
     "output_type": "stream",
     "text": [
      "Test RMSE: 1058.90, R2: 0.82\n"
     ]
    }
   ],
   "source": [
    "predictions = net.predict(features_test.astype('float32'))\n",
    "mse = mean_squared_error(target_test, predictions)\n",
    "r2 = r2_score(target_test, predictions)\n",
    "print(f'Test RMSE: {mse ** 0.5:.2f}, R2: {r2:.2f}')"
   ]
  }
 ],
 "metadata": {
  "kernelspec": {
   "display_name": "Python 3 (ipykernel)",
   "language": "python",
   "name": "python3"
  },
  "language_info": {
   "codemirror_mode": {
    "name": "ipython",
    "version": 3
   },
   "file_extension": ".py",
   "mimetype": "text/x-python",
   "name": "python",
   "nbconvert_exporter": "python",
   "pygments_lexer": "ipython3",
   "version": "3.9.10"
  }
 },
 "nbformat": 4,
 "nbformat_minor": 5
}
